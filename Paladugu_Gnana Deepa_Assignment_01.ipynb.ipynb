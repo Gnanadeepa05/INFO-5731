{
  "cells": [
    {
      "cell_type": "markdown",
      "metadata": {
        "id": "view-in-github"
      },
      "source": [
        "<a href=\"https://colab.research.google.com/github/unt-iialab/INFO5731_Spring2020/blob/master/Assignments/INFO5731_Assignment_One.ipynb\" target=\"_parent\"><img src=\"https://colab.research.google.com/assets/colab-badge.svg\" alt=\"Open In Colab\"/></a>"
      ]
    },
    {
      "cell_type": "markdown",
      "metadata": {
        "id": "Ryk8D1Q4Wsrp"
      },
      "source": [
        "# **INFO5731 Assignment One**"
      ]
    },
    {
      "cell_type": "markdown",
      "source": [
        "This assignment includes range of programming tasks and data analysis exercises, aiming to enhance your Python skills and proficiency in string manipulation, numerical computations, and data science. Follow the instructions carefully and design well-structured Python programs to address each question.\n",
        "\n",
        "Late Submission will have a penalty of 10% reduction for each day after the deadline."
      ],
      "metadata": {
        "id": "qcP6re2g5A5r"
      }
    },
    {
      "cell_type": "markdown",
      "metadata": {
        "id": "JkzR8cFAyGik"
      },
      "source": [
        "# Question 1 (10 points).\n",
        "\n",
        "The formula that describes the volume V of a hemisphere with radius r is the following:\n",
        "\n",
        "$ V=\\frac{2}{3}\\ast\\ \\pi\\ast\\ r^3 $\n",
        "\n",
        "Write a program to calculate the value of V when r is in the range of even numbers from 1-20. Output the result in the following format:\n",
        "\n",
        "\tr\tV\n",
        "\t2\t…\n",
        "\t4\t…\n",
        "\t6\t…\n",
        "\t.\n",
        "\t.\n",
        "\t.\n",
        "\t20\t…\n"
      ]
    },
    {
      "cell_type": "code",
      "execution_count": 1,
      "metadata": {
        "id": "jDyTKYs-yGit",
        "colab": {
          "base_uri": "https://localhost:8080/"
        },
        "outputId": "f7aae84b-8e58-45f0-d776-d4ffc4684156"
      },
      "outputs": [
        {
          "output_type": "stream",
          "name": "stdout",
          "text": [
            "r\tV\n",
            "2 16.755160819146667\n",
            "4 134.04128655317334\n",
            "6 452.38934211696\n",
            "8 1072.3302924253867\n",
            "10 2094.395102393333\n",
            "12 3619.11473693568\n",
            "14 5747.020160967307\n",
            "16 8578.642339403094\n",
            "18 12214.51223715792\n",
            "20 16755.160819146666\n"
          ]
        }
      ],
      "source": [
        "# Your code here\n",
        "print(\"r\\tV\")\n",
        "pi=3.14159265359\n",
        "# Setting upper limit in the range() as 21 because in for loop the upper limit will not be included.\n",
        "for i in range(2,21,2):\n",
        "  print(i,2/3*pi*i**3)\n",
        "\n"
      ]
    },
    {
      "cell_type": "markdown",
      "metadata": {
        "id": "90_NR8c5XGWc"
      },
      "source": [
        "# Question 2 (20 points)\n",
        "\n",
        "(a) Write a Python program to generate a sequence of 12 random numbers falling within the range of 50 to 150.\n",
        "\n",
        "(b) Arrange the generated numbers in ascending order. Display the sorted list.\n",
        "\n",
        "(c) Extend the program to arrange the numbers in descending order as well. Present the sorted list accordingly.\n",
        "\n",
        "(d) Compute and output the average of the entire group of generated numbers.\n",
        "\n",
        "(e) Enhance the program to calculate and display the average of the first 6 numbers from both the ascending and descending sorted lists."
      ]
    },
    {
      "cell_type": "code",
      "execution_count": 2,
      "metadata": {
        "id": "5QX6bJjGWXY9",
        "colab": {
          "base_uri": "https://localhost:8080/"
        },
        "outputId": "bdbe4ea0-1906-4150-c718-2d5d587fbe7a"
      },
      "outputs": [
        {
          "output_type": "stream",
          "name": "stdout",
          "text": [
            "12 random numbers between 50,150  [86, 98, 145, 105, 78, 116, 144, 103, 120, 70, 106, 77]\n",
            "Sorted list in assending order  [70, 77, 78, 86, 98, 103, 105, 106, 116, 120, 144, 145]\n",
            "Sorted list in descending order  [145, 144, 120, 116, 106, 105, 103, 98, 86, 78, 77, 70]\n",
            "Average of the list  104.0\n",
            "Average of first 6 numbers in ascending ordered list  85.33333333333333\n",
            "Average of first 6 numbers in descending ordered list  122.66666666666667\n"
          ]
        }
      ],
      "source": [
        "# Write code for each of the sub parts with proper comments.\n",
        "import random\n",
        "# (a)\n",
        "# getting random values in range 50-150\n",
        "random_list = random.sample(range(50, 150), 12)\n",
        "print(\"12 random numbers between 50,150 \",random_list)\n",
        "# (b)\n",
        "# sorting (assending order)\n",
        "random_list.sort()\n",
        "print(\"Sorted list in assending order \",random_list)\n",
        "# (c)\n",
        "# sorting descending order\n",
        "random_list.sort(reverse=True)\n",
        "print(\"Sorted list in descending order \",random_list)\n",
        "# (d)\n",
        "total_sum =sum(random_list)\n",
        "# average\n",
        "average=total_sum/len(random_list)\n",
        "print(\"Average of the list \",average)\n",
        "# (e)\n",
        "random_list.sort()\n",
        "average_ascending=0\n",
        "average_descending=0\n",
        "#calculating average of first 6 numbers in ascending ordered list\n",
        "for i in range(6):\n",
        "  average_ascending=average_ascending+random_list[i]\n",
        "print(\"Average of first 6 numbers in ascending ordered list \",average_ascending/6)\n",
        "random_list.sort(reverse=True)\n",
        "#calculating average of first 6 numbers in descending ordered list\n",
        "for i in range(6):\n",
        "  average_descending=average_descending+random_list[i]\n",
        "print(\"Average of first 6 numbers in descending ordered list \",average_descending/6)\n",
        "\n",
        "\n",
        "\n",
        "\n",
        "\n"
      ]
    },
    {
      "cell_type": "markdown",
      "metadata": {
        "id": "1F_PZdH9Sh49"
      },
      "source": [
        "# Question 3 (20 points).\n",
        "\n",
        "Create a Python program that encompasses various string manipulation task:\n",
        "\n",
        "(a) Prompt the user to input two sentences.\n",
        "\n",
        "(b) Transform each sentence into a list, where each element corresponds to a word in the sentence. For example, if the sentences are \"Hello, how are you doing today?\" and \"This is an example sentence for the program!\"\n",
        "\n",
        "The program should output:\n",
        "['Hello', ',', 'how', 'are', 'you', 'doing', 'today', '?', 'This', 'is', 'an', 'example', 'sentence', 'for', 'the', 'program', '!']\n",
        "\n",
        "(c) Compare the two sentences. Print out a list of words that occur in both sentences.\n",
        "\n",
        "(d) Remove any punctuation from the sentence and print the sanitized sentences. It should remove at least the following characters, but it can remove more: period(“.”), comma (“,”), semicolon (“;”), and colon (“:”).\n",
        "\n",
        "(e) Count the number of vowels in each of the sentences. Print out each vowel and the occurrences  in the each of the two sentences separately, such as:\n",
        "\n",
        "Sentence1: a:2, e:2, i:0, etc.\n",
        "Sentence2: a:1, e:2, i:2, etc.\n",
        "\n",
        "Design a well-structured Python program to execute these tasks efficiently."
      ]
    },
    {
      "cell_type": "code",
      "execution_count": null,
      "metadata": {
        "id": "Y0oOSlsOS0cq",
        "colab": {
          "base_uri": "https://localhost:8080/"
        },
        "outputId": "58b01114-b562-4c54-f20d-84b8285cdb7b"
      },
      "outputs": [
        {
          "output_type": "stream",
          "name": "stdout",
          "text": [
            "Enter first sentence: I like problem solving.\n",
            "Enter second sentence: I know python.\n",
            "['I', 'like', 'problem', 'solving', '.', 'I', 'know', 'python', '.']\n",
            "Common words in both sectences:  ['I', '.']\n",
            "sentence1 with out punctuation:  I like problem solving\n",
            "sentence2 with out punctuation:  I know python\n",
            "Count of vovels in sentence1:  {'a': 0, 'e': 2, 'i': 2, 'o': 2, 'u': 0, 'A': 0, 'E': 0, 'I': 1, 'O': 0, 'U': 0}\n",
            "Count of vovels in sentence1:  {'a': 0, 'e': 0, 'i': 0, 'o': 2, 'u': 0, 'A': 0, 'E': 0, 'I': 1, 'O': 0, 'U': 0}\n"
          ]
        }
      ],
      "source": [
        "from string import punctuation\n",
        "# (a)\n",
        "import re\n",
        " # taking inputs\n",
        "input1=input(\"Enter first sentence: \")\n",
        "input2=input(\"Enter second sentence: \")\n",
        "\n",
        "\n",
        "# (b)\n",
        "#splitting into words\n",
        "def splitting_sentence(sentence):\n",
        "  words=sentence.split()\n",
        "  res=[]\n",
        "  for word in words:\n",
        "    if word[-1] in \".,?;'-#@!:\":\n",
        "      res.append(word[:-1])\n",
        "      res.append(word[-1])\n",
        "    else:\n",
        "      res.append(word)\n",
        "  return res\n",
        "list1=splitting_sentence(input1)\n",
        "list2=splitting_sentence(input2)\n",
        "list3=list1+list2\n",
        "print(list3)\n",
        "\n",
        "\n",
        "# (c)\n",
        "common_words=[]\n",
        "for word in list1:\n",
        "  if word.lower() in (w.lower() for w in list2):\n",
        "    common_words.append(word)\n",
        "print(\"Common words in both sectences: \",common_words)\n",
        "\n",
        "\n",
        "# (d)\n",
        "def remove_punctuation(sentence):\n",
        "  # removing punctuations\n",
        "  punctuations = \".;':,?{}()[]\"\n",
        "  for letter in punctuations:\n",
        "    sentence = sentence.replace(letter, \"\")\n",
        "  return sentence\n",
        "print(\"sentence1 with out punctuation: \",remove_punctuation(input1))\n",
        "print(\"sentence2 with out punctuation: \",remove_punctuation(input2))\n",
        "\n",
        "\n",
        "# (e)\n",
        "def count_vowels(sentence):\n",
        "  vowels=\"aeiouAEIOU\"\n",
        "  count={}\n",
        "  # counting vovels\n",
        "  for letter in vowels:\n",
        "    count[letter]=sentence.count(letter)\n",
        "  return count\n",
        "print(\"Count of vovels in sentence1: \",count_vowels(input1))\n",
        "print(\"Count of vovels in sentence1: \",count_vowels(input2))\n",
        "\n",
        "\n",
        "\n",
        "\n",
        "\n",
        "\n"
      ]
    },
    {
      "cell_type": "markdown",
      "source": [
        "# Question 4 (20 Points)"
      ],
      "metadata": {
        "id": "OP4-5qxAtInv"
      }
    },
    {
      "cell_type": "markdown",
      "source": [
        "Design and implement a simple command-line calculator program. The program should handle both integers and floating-point numbers.\n",
        "\n",
        "(a) Write program that takes a mathematical expression as input and evaluates it. The program should support addition, subtraction, multiplication, and division.\n",
        "\n",
        "(b) Extend the calculator to handle parentheses in mathematical expressions. Implement the necessary logic to evaluate expressions with nested parentheses.\n",
        "\n",
        "(c) Enhance your calculator to include additional mathematical operations such as exponentiation, square root, and modulus.\n",
        "\n",
        "(d) Implement error handling in the calculator program. Handle cases such as division by zero and invalid input expressions. Provide meaningful error messages.\n",
        "\n",
        "(e) Implement a command to exit the calculator."
      ],
      "metadata": {
        "id": "uzN4_hDptK9U"
      }
    },
    {
      "cell_type": "code",
      "source": [
        "import math\n",
        "\n",
        "def evaluate_expression(expression):\n",
        "  nums=expression.split()\n",
        "  # setting format if len is 2, format: operator number.\n",
        "\n",
        "  if len(nums)==2:\n",
        "    op,num1=nums\n",
        "    num1=float(num1)\n",
        "    if op==\"sqrt\":\n",
        "      if num1<0:\n",
        "        return \"Error: No square root for negatives\"\n",
        "      return math.sqrt(num1)\n",
        "    elif op==\"exp\":\n",
        "        return math.exp(num1)\n",
        "    else:\n",
        "        return \"Error: Unsupported operator\"\n",
        "# setting format if len is 3, format: number operator number.\n",
        "  if len(nums)==3:\n",
        "    num1,op,num2=nums\n",
        "    num2=float(num2)\n",
        "    num1=float(num1)\n",
        "    if op==\"+\":\n",
        "      return num1+num2\n",
        "    elif op==\"-\":\n",
        "      return num1-num2\n",
        "    elif op==\"*\":\n",
        "      return num1*num2\n",
        "    elif op==\"/\":\n",
        "      if num2==0:\n",
        "        return \"Error: Cannot do division by zero\"\n",
        "      return num1/num2\n",
        "    elif op==\"%\":\n",
        "      if num2==0:\n",
        "        return \"Error: Cannot do modulo by zero\"\n",
        "      return num1%num2\n",
        "    elif op==\"**\":\n",
        "      return num1**num2\n",
        "    elif op == \"sqrt\":\n",
        "      if num1 < 0:\n",
        "          return \"Error: Cannot calculate the square root of a negative number.\"\n",
        "      return math.sqrt(num1)\n",
        "    elif op == \"exp\":\n",
        "      return math.exp(num1)\n",
        "    else:\n",
        "      return \"Enter a valid operator\"\n",
        "  else:\n",
        "    return \"Invalid expression, use format: operand operator operand (e.g., 2 + 3)\"\n",
        "\n",
        "def calculator(expression):\n",
        "  try:\n",
        "      # checking paranthesis\n",
        "    while '(' in expression:\n",
        "      right_most_open_bracket=expression.rfind('(')\n",
        "      close_for_right_most_open_bracket=expression.find(')',right_most_open_bracket)\n",
        "      if close_for_right_most_open_bracket==-1:\n",
        "        return \"Error: Enter a valid paranthesis\"\n",
        "      inner_expression=expression[right_most_open_bracket+1:close_for_right_most_open_bracket]\n",
        "      inner_result=str(eval(inner_expression))\n",
        "      expression=expression[:right_most_open_bracket]+inner_result+expression[close_for_right_most_open_bracket+1:]\n",
        "    return evaluate_expression(expression)\n",
        "  except Exception as e:\n",
        "    return e\n",
        "print(\"You can add paranthesis in this calculator and also try operators such as modulus(%),exp,sqrt\")\n",
        "print(\"Enter 'quit' to exit the calculator\")\n",
        "while True:\n",
        "  expression=input(\"Enter the expression: \")\n",
        "  # use 'quit' to quit the calculator\n",
        "  if expression.lower()==\"quit\":\n",
        "    break\n",
        "  print(calculator(expression))\n",
        "\n"
      ],
      "metadata": {
        "id": "8nQnVxjJuYtu",
        "colab": {
          "base_uri": "https://localhost:8080/"
        },
        "outputId": "41df6cc6-d432-4bc7-f5de-457246381922"
      },
      "execution_count": null,
      "outputs": [
        {
          "name": "stdout",
          "output_type": "stream",
          "text": [
            "You can add paranthesis in this calculator and also try operators such as modulus(%),exp,sqrt\n",
            "Enter 'quit' to exit the calculator\n",
            "Enter the expression sqrt 16\n",
            "4.0\n",
            "Enter the expression 2-(3+1)\n",
            "Invalid expression, use format: operand operator operand (e.g., 2 + 3)\n",
            "Enter the expression 2 - (3 + 1)\n",
            "-2.0\n",
            "Enter the expression exp 2\n",
            "7.38905609893065\n",
            "Enter the expression 4 / 0\n",
            "Error: Cannot do division by zero\n",
            "Enter the expression quit\n"
          ]
        }
      ]
    },
    {
      "cell_type": "markdown",
      "metadata": {
        "id": "z3tBE7E-Xn5X"
      },
      "source": [
        "# Question 5 (30 points).\n",
        "\n",
        "In the field of Data Science, data is often formatted as a comma-delimited (CSV) file, where each line in a file corresponds to a field's value. Refer to Chapter 9 (p. 106) for more information on comma-delimited files.\n",
        "\n",
        "To answer this question, you will need to download the file [Assignment1_denton_housing.csv](https://raw.githubusercontent.com/unt-iialab/info5731-spring2022/main/assignments/Assignment1_denton_housing.csv) included with this assignment. The file contains statistics about housing in the city of Denton from 2008 to 2014. Write a program to implement the following questions.\n",
        "\n",
        "(a) (5 pts) Calculate the difference in the number of Occupied Housing Units from year to year and print it. The difference must be calculated for the consecutive years such as 2008-2009, 2009-2010 etc. Finally, print the values in the ascending order.\n",
        "\n",
        "(b) (5 pts) For all the years, calculate the percentage of housing units which are vacant an occupied. Print the results in the following format:\n",
        "\n",
        "Year Vacant Housing Units Occupied Housing Units\n",
        "\n",
        "    2008  30%   70%                          \n",
        "\t2009 ----- -----\n",
        "\t2010 ----- -----\n",
        "    2011 ----- -----\n",
        "\t2012 ----- -----\n",
        "    2013 ----- -----\n",
        "\t2014 ----- -----\n",
        "  \n",
        "  \n",
        "\n",
        "(c) (10 pts) Calculate and print the valued and years in which the highest number of housing units were vacant and occupied. Print the results in the following format:  \n",
        "\n",
        "                              Year\tValue\n",
        "\tVacant Housing Units\t  -----   -----\n",
        "\tOccupied Housing Units\t-----   -----\n",
        "\n",
        "(d) (10 pts) Calculate the harmonic mean of the total housing units and print it out. You can find the information about harmonic mean here: https://ncalculators.com/statistics/harmonic-mean-calculator.htm"
      ]
    },
    {
      "cell_type": "code",
      "execution_count": null,
      "metadata": {
        "id": "lqGYuHBhcsRH",
        "colab": {
          "base_uri": "https://localhost:8080/"
        },
        "outputId": "5ad805d8-e32d-4ab3-c78a-fc2382e8a739"
      },
      "outputs": [
        {
          "output_type": "stream",
          "name": "stdout",
          "text": [
            "Difference in the number of Occupied Housing Units from year to year\n",
            "1    -795.0\n",
            "3    -303.0\n",
            "4    1404.0\n",
            "5    1565.0\n",
            "6    2622.0\n",
            "2    5091.0\n",
            "Name: Difference, dtype: float64\n",
            "Percentage of housing units which are vacant an occupied\n",
            "2009 9% 91%\n",
            "2010 8% 92%\n",
            "2011 9% 91%\n",
            "2012 7% 93%\n",
            "2013 9% 91%\n",
            "2014 6% 94%\n",
            "Vacant Housing Units       2008    4483\n",
            "Occupied Housing Units     2014   46295\n",
            "Harmonic Mean of Total Housing Units: 44398.29\n"
          ]
        }
      ],
      "source": [
        "import pandas as pd\n",
        "# (a)\n",
        "df = pd.read_csv('Assignment1_denton_housing.csv')\n",
        "pivot_df = df.pivot(index='year', columns='title_field', values='value').reset_index()\n",
        "pivot_df['Difference'] = pivot_df['Occupied Housing Units'].diff()\n",
        "pivot_df = pivot_df.dropna(subset=['Difference'])\n",
        "print(\"Difference in the number of Occupied Housing Units from year to year\")\n",
        "print(pivot_df['Difference'].sort_values(ascending=True))\n",
        "\n",
        "\n",
        "# (b)\n",
        "pivot_df = df.pivot(index='year', columns='title_field', values='value').reset_index()\n",
        "\n",
        "pivot_df['Vacant Percentage'] = (pivot_df['Vacant Housing Units'] / pivot_df['Total Housing Units']) * 100\n",
        "pivot_df['Occupied Percentage'] = (pivot_df['Occupied Housing Units'] / pivot_df['Total Housing Units']) * 100\n",
        "print(\"Percentage of housing units which are vacant an occupied\")\n",
        "# Printing the results in the specified format\n",
        "for index, row in pivot_df.iterrows():\n",
        "    year = int(row['year'])\n",
        "    vacant_percentage = f\"{row['Vacant Percentage']:.0f}%\"\n",
        "    occupied_percentage = f\"{row['Occupied Percentage']:.0f}%\"\n",
        "    print(f\"{year} {vacant_percentage} {occupied_percentage}\")\n",
        "\n",
        "\n",
        "# (c)\n",
        "pivot_df = df.pivot(index='year', columns='title_field', values='value').reset_index()\n",
        "# finding maximum vecant and maximum occupied housing units.\n",
        "max_vacant = pivot_df.loc[pivot_df['Vacant Housing Units'].idxmax()]\n",
        "max_occupied = pivot_df.loc[pivot_df['Occupied Housing Units'].idxmax()]\n",
        "\n",
        "print(f\"Vacant Housing Units      {max_vacant['year']:>5}   {max_vacant['Vacant Housing Units']:>5}\")\n",
        "print(f\"Occupied Housing Units    {max_occupied['year']:>5}   {max_occupied['Occupied Housing Units']:>5}\")\n",
        "\n",
        "\n",
        "\n",
        "# (d)\n",
        "from scipy.stats import hmean\n",
        "total_units = pivot_df['Total Housing Units']\n",
        "# Calculatinh hmean by using built-in function\n",
        "harmonic_mean = hmean(total_units[total_units > 0])\n",
        "print(f\"Harmonic Mean of Total Housing Units: {harmonic_mean:.2f}\")\n"
      ]
    },
    {
      "cell_type": "markdown",
      "source": [
        "# Mandatory Question\n",
        "\n",
        "Provide your thoughts on the assignment. What did you find challenging, and what aspects did you enjoy? Your opinion on the provided time to complete the assignment. Share any suggestions for improvement. Your feedback will be valuable for enhancing the learning experience."
      ],
      "metadata": {
        "id": "q8BFCvWp32cf"
      }
    },
    {
      "cell_type": "code",
      "source": [
        "# Write your response below\n",
        "I found the data science part a bit challenging. I think the provided time is suffucient for this assignment. I enjoyed working on this assignment."
      ],
      "metadata": {
        "id": "_e557s2w4BpK"
      },
      "execution_count": null,
      "outputs": []
    }
  ],
  "metadata": {
    "colab": {
      "provenance": []
    },
    "kernelspec": {
      "display_name": "Python 3 (ipykernel)",
      "language": "python",
      "name": "python3"
    },
    "language_info": {
      "codemirror_mode": {
        "name": "ipython",
        "version": 3
      },
      "file_extension": ".py",
      "mimetype": "text/x-python",
      "name": "python",
      "nbconvert_exporter": "python",
      "pygments_lexer": "ipython3",
      "version": "3.9.12"
    }
  },
  "nbformat": 4,
  "nbformat_minor": 0
}